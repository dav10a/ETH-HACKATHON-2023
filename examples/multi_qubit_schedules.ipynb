{
 "cells": [
  {
   "cell_type": "code",
   "execution_count": 90,
   "metadata": {},
   "outputs": [],
   "source": [
    "import numpy as np\n",
    "import scipy as sc\n",
    "import matplotlib.pyplot as plt \n",
    "import cas as cas\n",
    "import importlib\n",
    "import pickle"
   ]
  },
  {
   "attachments": {},
   "cell_type": "markdown",
   "metadata": {},
   "source": [
    "The goal of this notebook is to obtain the custom circuit fluxes to run an annealing process. In particular we are interested in solving the Traveling Salesman Problem (TSP)."
   ]
  },
  {
   "attachments": {},
   "cell_type": "markdown",
   "metadata": {},
   "source": [
    "# Building block objects: Circuit elements\n",
    "\n",
    "We are going to use two main types of circuits elements: the Capacitively Shunted Flux Qubit and Couplers. The library we are using have their own methods and attributes that can be used in other classes. At first we are going to inspect these elements and how to use them. "
   ]
  },
  {
   "cell_type": "code",
   "execution_count": 91,
   "metadata": {},
   "outputs": [
    {
     "name": "stderr",
     "output_type": "stream",
     "text": [
      "/Users/enriquenb/opt/anaconda3/envs/Qilimanjaro-ETH-Hackathon/lib/python3.8/site-packages/scipy/sparse/linalg/_dsolve/linsolve.py:394: SparseEfficiencyWarning: splu converted its input to CSC format\n",
      "  warn('splu converted its input to CSC format', SparseEfficiencyWarning)\n"
     ]
    }
   ],
   "source": [
    "# qubit parameters and definition\n",
    "i_c = 230; c_shunt = 50; c_z = 4.4; lq = 480; alpha = 0.4; d = 0.0\n",
    "qubit = cas.CSFQ(i_c, c_shunt, c_z, lq, alpha, d)\n",
    "\n",
    "# coupler\n",
    "i_sigma = 565; c_sigma = 11; lc = 580; d = 0.0\n",
    "coupler = cas.Coupler(i_sigma, c_sigma, lc, d)\n"
   ]
  },
  {
   "attachments": {},
   "cell_type": "markdown",
   "metadata": {},
   "source": [
    "First, we investigate all the methods that the qubit object has:"
   ]
  },
  {
   "cell_type": "code",
   "execution_count": 62,
   "metadata": {},
   "outputs": [
    {
     "data": {
      "text/plain": [
       "['__init__',\n",
       " '_c',\n",
       " '_residuals',\n",
       " 'evolve_se',\n",
       " 'get_fluxes',\n",
       " 'get_h',\n",
       " 'get_ip',\n",
       " 'get_ising',\n",
       " 'get_low_e',\n",
       " 'get_pauli',\n",
       " 'get_pauli_low_e',\n",
       " 'get_povm',\n",
       " 're_init']"
      ]
     },
     "execution_count": 62,
     "metadata": {},
     "output_type": "execute_result"
    }
   ],
   "source": [
    "import inspect\n",
    "method_names = [attr for attr in dir(qubit) if inspect.ismethod(getattr(qubit, attr))]\n",
    "method_names"
   ]
  },
  {
   "cell_type": "code",
   "execution_count": 63,
   "metadata": {},
   "outputs": [
    {
     "name": "stdout",
     "output_type": "stream",
     "text": [
      "Calculates the Ising coefficients for single qubit.\n",
      "        See arXiv:1912.00464 for more details.\n",
      "\n",
      "        Arguments\n",
      "        ---------\n",
      "        phi_x : float\n",
      "            x (barrier) bias phase (not flux)\n",
      "            Should be in the range -2pi <= phi_x <= 2pi\n",
      "        phi_z : float\n",
      "            z (tilt) bias phase (not flux)\n",
      "            Should be in the range 0 <= phi_z <= 2pi\n",
      "\n",
      "        Returns\n",
      "        -------\n",
      "        ising : array\n",
      "            sigma_x and sigma_z coefficients\n",
      "            dim=(1, 2)\n",
      "        basis : ndarray\n",
      "            computational basis, which is a linear combination of first two\n",
      "            eigenstates. First column is |0>, second column is |1>\n",
      "            dim=(2, nmax)\n",
      "        \n"
     ]
    }
   ],
   "source": [
    "print(qubit.get_ising.__doc__)"
   ]
  },
  {
   "attachments": {},
   "cell_type": "markdown",
   "metadata": {},
   "source": [
    "We obtain the Ising coefficients of a single qubit for given circuit biases:"
   ]
  },
  {
   "cell_type": "code",
   "execution_count": 64,
   "metadata": {},
   "outputs": [
    {
     "data": {
      "text/plain": [
       "array([1.26307414, 0.52212011])"
      ]
     },
     "execution_count": 64,
     "metadata": {},
     "output_type": "execute_result"
    }
   ],
   "source": [
    "ising, basis = qubit.get_ising(phi_x=0.72*2*np.pi, phi_z=0.003*2*np.pi)\n",
    "\n",
    "ising/2/np.pi"
   ]
  },
  {
   "attachments": {},
   "cell_type": "markdown",
   "metadata": {},
   "source": [
    "We can also obtain the Hamiltonian for the coupler element"
   ]
  },
  {
   "cell_type": "code",
   "execution_count": 65,
   "metadata": {},
   "outputs": [
    {
     "name": "stdout",
     "output_type": "stream",
     "text": [
      "Builds the coupler Hamiltonian.\n",
      "\n",
      "        Arguments\n",
      "        ---------\n",
      "        phi_x : float\n",
      "            x (barrier) bias phase (not flux)\n",
      "        phi_z : float\n",
      "            z (tilt) bias phase (not flux)\n",
      "\n",
      "        Returns\n",
      "        -------\n",
      "        ham : ndarray\n",
      "            circuit Hamiltonian\n",
      "            dim=(nmax, nmax)\n",
      "        \n"
     ]
    }
   ],
   "source": [
    "print(coupler.get_h.__doc__)"
   ]
  },
  {
   "cell_type": "code",
   "execution_count": 66,
   "metadata": {},
   "outputs": [
    {
     "data": {
      "text/plain": [
       "array([[-1.34893620e+03+0.00000000e+00j,  5.52329704e-14+0.00000000e+00j,\n",
       "         1.06627368e+02-1.09892026e-30j, ...,\n",
       "        -1.44220983e-65+2.18305393e-58j, -5.88185463e-51-4.16203000e-75j,\n",
       "         3.73429529e-68-3.09421384e-60j],\n",
       "       [ 5.52329704e-14+0.00000000e+00j, -8.02238540e+02+0.00000000e+00j,\n",
       "         7.37452967e-14+7.91855499e-14j, ...,\n",
       "         1.62797609e-47+3.53677935e-72j, -9.96578278e-65+3.95119063e-57j,\n",
       "        -4.11729824e-50-4.25790183e-74j],\n",
       "       [ 1.06627368e+02+1.09892026e-30j,  7.37452967e-14-7.91855499e-14j,\n",
       "        -2.63969295e+02+0.00000000e+00j, ...,\n",
       "         1.92385664e-61-1.34038680e-54j,  7.95545779e-47+2.89756104e-71j,\n",
       "        -4.93307487e-64+2.18544046e-56j],\n",
       "       ...,\n",
       "       [-1.44220983e-65-2.18305393e-58j,  1.62797609e-47-3.53677935e-72j,\n",
       "         1.92385664e-61+1.34038680e-54j, ...,\n",
       "         1.88835210e+04+0.00000000e+00j, -8.48629494e-14+1.58371100e-13j,\n",
       "         7.65343151e+02+1.75827241e-29j],\n",
       "       [-5.88185463e-51+4.16203000e-75j, -9.96578278e-65-3.95119063e-57j,\n",
       "         7.95545779e-47-2.89756104e-71j, ...,\n",
       "        -8.48629494e-14-1.58371100e-13j,  1.99366923e+04+0.00000000e+00j,\n",
       "         2.36123098e-14+1.97963875e-14j],\n",
       "       [ 3.73429529e-68+3.09421384e-60j, -4.11729824e-50+4.25790183e-74j,\n",
       "        -4.93307487e-64-2.18544046e-56j, ...,\n",
       "         7.65343151e+02-1.75827241e-29j,  2.36123098e-14-1.97963875e-14j,\n",
       "         1.95751028e+04+0.00000000e+00j]])"
      ]
     },
     "execution_count": 66,
     "metadata": {},
     "output_type": "execute_result"
    }
   ],
   "source": [
    "coupler.get_h(phi_x=0.8*2*np.pi, phi_z = 0.5*2*np.pi)"
   ]
  },
  {
   "attachments": {},
   "cell_type": "markdown",
   "metadata": {},
   "source": [
    "# Solving the TSP with nine qubits\n",
    "## Creating the circuit object\n",
    "\n",
    "Here we consider a chain of nine qubits that are coupled via eight tunable couplers, the sign of coupling parameter depends on whether the qubits are coupled ferromagnetically (negative ZZ sign) or anti-ferromagnetically (positive ZZ sign). First, let us create the qubit and coupler objects, using typical parameters. Here we use symmetric junctions with d=0."
   ]
  },
  {
   "cell_type": "code",
   "execution_count": 92,
   "metadata": {},
   "outputs": [
    {
     "data": {
      "text/plain": [
       "'\\nqubit0 = cas.CSFQ(i_c, c_shunt, c_z, lq, alpha, d)\\nqubit1 = cas.CSFQ(i_c, c_shunt, c_z, lq, alpha, d)\\nqubit2 = cas.CSFQ(i_c, c_shunt, c_z, lq, alpha, d)\\nqubit3 = cas.CSFQ(i_c, c_shunt, c_z, lq, alpha, d)\\nqubit4 = cas.CSFQ(i_c, c_shunt, c_z, lq, alpha, d)\\nqubit5 = cas.CSFQ(i_c, c_shunt, c_z, lq, alpha, d)\\nqubit6 = cas.CSFQ(i_c, c_shunt, c_z, lq, alpha, d)\\nqubit7 = cas.CSFQ(i_c, c_shunt, c_z, lq, alpha, d)\\nqubit8 = cas.CSFQ(i_c, c_shunt, c_z, lq, alpha, d)\\n\\ncoupler01 = cas.Coupler(i_sigma, c_sigma, lc, d)\\ncoupler12 = cas.Coupler(i_sigma, c_sigma, lc, d)\\ncoupler23 = cas.Coupler(i_sigma, c_sigma, lc, d)\\ncoupler34 = cas.Coupler(i_sigma, c_sigma, lc, d)\\ncoupler45 = cas.Coupler(i_sigma, c_sigma, lc, d)\\ncoupler56 = cas.Coupler(i_sigma, c_sigma, lc, d)\\ncoupler67 = cas.Coupler(i_sigma, c_sigma, lc, d)\\ncoupler78 = cas.Coupler(i_sigma, c_sigma, lc, d)\\n'"
      ]
     },
     "execution_count": 92,
     "metadata": {},
     "output_type": "execute_result"
    }
   ],
   "source": [
    "i_c = 230; c_shunt = 50; c_z = 4.4; lq = 480; alpha = 0.4; d = 0.0\n",
    "i_sigma = 565; c_sigma = 11; lc = 580; d = 0.0\n",
    "nqubits = 9\n",
    "\n",
    "elements = []\n",
    "\n",
    "for i in range(nqubits):\n",
    "    elements.append(cas.CSFQ(i_c, c_shunt, c_z, lq, alpha, d))\n",
    "    if i != nqubits -1 : \n",
    "        elements.append(cas.Coupler(i_sigma, c_sigma, lc, d))\n",
    "\n",
    "'''\n",
    "qubit0 = cas.CSFQ(i_c, c_shunt, c_z, lq, alpha, d)\n",
    "qubit1 = cas.CSFQ(i_c, c_shunt, c_z, lq, alpha, d)\n",
    "qubit2 = cas.CSFQ(i_c, c_shunt, c_z, lq, alpha, d)\n",
    "qubit3 = cas.CSFQ(i_c, c_shunt, c_z, lq, alpha, d)\n",
    "qubit4 = cas.CSFQ(i_c, c_shunt, c_z, lq, alpha, d)\n",
    "qubit5 = cas.CSFQ(i_c, c_shunt, c_z, lq, alpha, d)\n",
    "qubit6 = cas.CSFQ(i_c, c_shunt, c_z, lq, alpha, d)\n",
    "qubit7 = cas.CSFQ(i_c, c_shunt, c_z, lq, alpha, d)\n",
    "qubit8 = cas.CSFQ(i_c, c_shunt, c_z, lq, alpha, d)\n",
    "\n",
    "coupler01 = cas.Coupler(i_sigma, c_sigma, lc, d)\n",
    "coupler12 = cas.Coupler(i_sigma, c_sigma, lc, d)\n",
    "coupler23 = cas.Coupler(i_sigma, c_sigma, lc, d)\n",
    "coupler34 = cas.Coupler(i_sigma, c_sigma, lc, d)\n",
    "coupler45 = cas.Coupler(i_sigma, c_sigma, lc, d)\n",
    "coupler56 = cas.Coupler(i_sigma, c_sigma, lc, d)\n",
    "coupler67 = cas.Coupler(i_sigma, c_sigma, lc, d)\n",
    "coupler78 = cas.Coupler(i_sigma, c_sigma, lc, d)\n",
    "'''\n"
   ]
  },
  {
   "attachments": {},
   "cell_type": "markdown",
   "metadata": {},
   "source": [
    "After creating the circuit objects, we should put them in a list elements that holds them and essentially assigns indexes to them"
   ]
  },
  {
   "cell_type": "code",
   "execution_count": 93,
   "metadata": {},
   "outputs": [
    {
     "name": "stdout",
     "output_type": "stream",
     "text": [
      "17\n"
     ]
    }
   ],
   "source": [
    "elements = [qubit0, coupler01, qubit1, coupler12, qubit2, coupler23, qubit3, coupler34, qubit4, coupler45, qubit5, coupler56, qubit6, coupler67, qubit7, coupler78, qubit8]\n",
    "\n",
    "print(len(elements))"
   ]
  },
  {
   "attachments": {},
   "cell_type": "markdown",
   "metadata": {},
   "source": [
    "Having our qubits and coupler in this list, we will now have to set the mutuals between them to construct the mutual matrix m_mat between them. For that, if \n",
    "elements[i] and elements[i] circuit elements are coupled via a mutual inductance of m, then for the mutual matrix we should have m_mat[i, j] = m_mat[j, i] = -m (notice the negative sign). Note that the size of (both of axis of the) mutual matrix is the same as the size of the elements. Therefore for a chain configuration we have"
   ]
  },
  {
   "cell_type": "code",
   "execution_count": 94,
   "metadata": {},
   "outputs": [
    {
     "name": "stdout",
     "output_type": "stream",
     "text": [
      "[[  0 -65   0   0   0   0   0   0   0   0   0   0   0   0   0   0   0]\n",
      " [-65   0 -65   0   0   0   0   0   0   0   0   0   0   0   0   0   0]\n",
      " [  0 -65   0 -65   0   0   0   0   0   0   0   0   0   0   0   0   0]\n",
      " [  0   0 -65   0 -65   0   0   0   0   0   0   0   0   0   0   0   0]\n",
      " [  0   0   0 -65   0 -65   0   0   0   0   0   0   0   0   0   0   0]\n",
      " [  0   0   0   0 -65   0 -65   0   0   0   0   0   0   0   0   0   0]\n",
      " [  0   0   0   0   0 -65   0 -65   0   0   0   0   0   0   0   0   0]\n",
      " [  0   0   0   0   0   0 -65   0 -65   0   0   0   0   0   0   0   0]\n",
      " [  0   0   0   0   0   0   0 -65   0 -65   0   0   0   0   0   0   0]\n",
      " [  0   0   0   0   0   0   0   0 -65   0 -65   0   0   0   0   0   0]\n",
      " [  0   0   0   0   0   0   0   0   0 -65   0 -65   0   0   0   0   0]\n",
      " [  0   0   0   0   0   0   0   0   0   0 -65   0 -65   0   0   0   0]\n",
      " [  0   0   0   0   0   0   0   0   0   0   0 -65   0 -65   0   0   0]\n",
      " [  0   0   0   0   0   0   0   0   0   0   0   0 -65   0 -65   0   0]\n",
      " [  0   0   0   0   0   0   0   0   0   0   0   0   0 -65   0 -65   0]\n",
      " [  0   0   0   0   0   0   0   0   0   0   0   0   0   0 -65   0 -65]\n",
      " [  0   0   0   0   0   0   0   0   0   0   0   0   0   0   0 -65   0]]\n"
     ]
    }
   ],
   "source": [
    "m = 65; m_mat = m*np.diag([1 for i in range(16)], k = 1)\n",
    "\n",
    "# Look how m may change\n",
    "\n",
    "m_mat = -(m_mat + m_mat.T)\n",
    "\n",
    "print(m_mat)"
   ]
  },
  {
   "cell_type": "code",
   "execution_count": 70,
   "metadata": {},
   "outputs": [
    {
     "name": "stdout",
     "output_type": "stream",
     "text": [
      "(17, 17)\n"
     ]
    }
   ],
   "source": [
    "print(np.shape(m_mat))"
   ]
  },
  {
   "attachments": {},
   "cell_type": "markdown",
   "metadata": {},
   "source": [
    "For our case we have chosen to implement a chain of qubits whose mutual inductance is always the same for all elements"
   ]
  },
  {
   "attachments": {},
   "cell_type": "markdown",
   "metadata": {},
   "source": [
    "The last part is to choose a truncation size for the circuit elements. This assigns a truncation size to each object in the elements, which means how many low-energy eigenstates and eigenvalues of the system to keep when calculating the joint Hamiltonian of the system (or subsystem). Here I use a smaller truncation for couplers compared to qubits, cause couplers have higher frequencies."
   ]
  },
  {
   "cell_type": "code",
   "execution_count": 96,
   "metadata": {},
   "outputs": [
    {
     "name": "stdout",
     "output_type": "stream",
     "text": [
      "17\n"
     ]
    }
   ],
   "source": [
    "trunc_vec = np.array([6, 3, 6, 3, 6, 3, 6, 3, 6, 3, 6, 3, 6, 3, 6, 3, 6])\n",
    "\n",
    "print(len(trunc_vec))"
   ]
  },
  {
   "attachments": {},
   "cell_type": "markdown",
   "metadata": {},
   "source": [
    "We have now all the required elements to create our circuit object which we'll use for all the calculations"
   ]
  },
  {
   "cell_type": "code",
   "execution_count": 97,
   "metadata": {},
   "outputs": [],
   "source": [
    "circuit = cas.AnnealingCircuit(elements, m_mat, trunc_vec)"
   ]
  },
  {
   "attachments": {},
   "cell_type": "markdown",
   "metadata": {},
   "source": [
    "# Calculating Ising schedules for given circuit biases\n",
    "\n",
    "To calculate the schedules using the circuit biases, we first have to construct a dictionary of the circuit fluxes. This dictionary will have a key named `points` which simply is the number of points used for the flux schedules.\n",
    "For circuit element i(`elements[i]`), the x and z biases should have keys of `phix_i` and `phiz_i` respectively. This keys then are assigned to an array of flux points. The input for circuit biases are phase, i.e. $\\phi = \\frac{\\Phi}{\\Phi_0} 2 \\pi$ where $\\phi$ is the phase and $\\Phi$ is the magnetic flux. \n",
    "\n",
    "Note that we use the annealing regino near $\\Phi_z = 0$, and NOT $\\Phi_z = \\Phi_0/2$. Below we use some simple circuit biases that change linearly during the anneal."
   ]
  },
  {
   "cell_type": "code",
   "execution_count": 71,
   "metadata": {},
   "outputs": [],
   "source": [
    "phi_dict = {}; pts = 20;\n",
    "s = np.linspace(0, 1, pts)\n",
    "phi_dict[\"points\"] = pts\n",
    "\n",
    "phi_dict[\"phix_0\"] = np.linspace(0.73, 1, pts)*2*np.pi\n",
    "phi_dict[\"phix_1\"] = np.linspace(0.5, 1, pts)*2*np.pi\n",
    "phi_dict[\"phix_2\"] = np.linspace(0.73, 0.85, pts)*2*np.pi\n",
    "phi_dict[\"phix_3\"] = np.linspace(0.5, 0.85, pts)*2*np.pi\n",
    "phi_dict[\"phix_4\"] = np.linspace(0.75, 1, pts)*2*np.pi\n",
    "phi_dict[\"phix_5\"] = np.linspace(0.73, 1, pts)*2*np.pi\n",
    "phi_dict[\"phix_6\"] = np.linspace(0.5, 1, pts)*2*np.pi\n",
    "phi_dict[\"phix_7\"] = np.linspace(0.73, 0.85, pts)*2*np.pi\n",
    "phi_dict[\"phix_8\"] = np.linspace(0.5, 0.85, pts)*2*np.pi\n",
    "phi_dict[\"phix_9\"] = np.linspace(0.75, 1, pts)*2*np.pi\n",
    "phi_dict[\"phix_10\"] = np.linspace(0.73, 1, pts)*2*np.pi\n",
    "phi_dict[\"phix_11\"] = np.linspace(0.5, 1, pts)*2*np.pi\n",
    "phi_dict[\"phix_12\"] = np.linspace(0.73, 0.85, pts)*2*np.pi\n",
    "phi_dict[\"phix_13\"] = np.linspace(0.5, 0.85, pts)*2*np.pi\n",
    "phi_dict[\"phix_14\"] = np.linspace(0.75, 1, pts)*2*np.pi\n",
    "phi_dict[\"phix_15\"] = np.linspace(0.73, 1, pts)*2*np.pi\n",
    "phi_dict[\"phix_16\"] = np.linspace(0.5, 1, pts)*2*np.pi\n",
    "phi_dict[\"phix_17\"] = np.linspace(0.73, 0.85, pts)*2*np.pi\n",
    "\n",
    "phi_dict[\"phiz_0\"] = np.linspace(0.0, 0.002, pts)*2*np.pi\n",
    "phi_dict[\"phiz_1\"] = np.linspace(0, 0, pts)*2*np.pi\n",
    "phi_dict[\"phiz_2\"] = np.linspace(0, 0.001, pts)*2*np.pi\n",
    "phi_dict[\"phiz_3\"] = np.linspace(0, 0, pts)*2*np.pi\n",
    "phi_dict[\"phiz_4\"] = np.linspace(0, 0.002, pts)*2*np.pi\n",
    "phi_dict[\"phiz_5\"] = np.linspace(0.0, 0.002, pts)*2*np.pi\n",
    "phi_dict[\"phiz_6\"] = np.linspace(0, 0, pts)*2*np.pi\n",
    "phi_dict[\"phiz_7\"] = np.linspace(0, 0.001, pts)*2*np.pi\n",
    "phi_dict[\"phiz_8\"] = np.linspace(0, 0, pts)*2*np.pi\n",
    "phi_dict[\"phiz_9\"] = np.linspace(0, 0.002, pts)*2*np.pi\n",
    "phi_dict[\"phiz_10\"] = np.linspace(0.0, 0.002, pts)*2*np.pi\n",
    "phi_dict[\"phiz_11\"] = np.linspace(0, 0, pts)*2*np.pi\n",
    "phi_dict[\"phiz_12\"] = np.linspace(0, 0.001, pts)*2*np.pi\n",
    "phi_dict[\"phiz_13\"] = np.linspace(0, 0, pts)*2*np.pi\n",
    "phi_dict[\"phiz_14\"] = np.linspace(0, 0.002, pts)*2*np.pi\n",
    "phi_dict[\"phiz_15\"] = np.linspace(0.0, 0.002, pts)*2*np.pi\n",
    "phi_dict[\"phiz_16\"] = np.linspace(0, 0, pts)*2*np.pi\n",
    "phi_dict[\"phiz_17\"] = np.linspace(0, 0.001, pts)*2*np.pi"
   ]
  },
  {
   "attachments": {},
   "cell_type": "markdown",
   "metadata": {},
   "source": [
    "We can then use the different methods of the system to calculate the Ising coefficients."
   ]
  },
  {
   "attachments": {},
   "cell_type": "markdown",
   "metadata": {},
   "source": [
    "# Ising via full Schrieffer-Wolff (SW)\n",
    "\n",
    "The full Schrieffer-Wolff method is the most accurate method in the module, but it will not work for large systems. This method essentially has to construct the Hamiltonian of the whole system and diagonalize it. Therefore the computational cost scales exponentially with the number of qubits and coupler circuit elements. Nevertheless, for our small circuit here we can do it via the `get_ising_sw` method:"
   ]
  },
  {
   "cell_type": "code",
   "execution_count": 17,
   "metadata": {},
   "outputs": [],
   "source": [
    "# ising_sw_dict = circuit.get_ising_sw(phi_dict, verbose = True) Don't use because it takes too much time to execute"
   ]
  },
  {
   "attachments": {},
   "cell_type": "markdown",
   "metadata": {},
   "source": [
    "# Ising via pair_wise Schrieffer-Wolff (PWSW)\n",
    "\n",
    "The pair-wise Schrieffer-Wolff method is an approximate method to calculate the Ising coefficients. In this method the single qubit Ising terms are calculated using single qubit flux biases, and then to calculate the interaction between qubits we form subcircuits of qubit-coupler-qubit and use full SW on these subsystem to calculate the interaction between qubit pairs. The computational cost of this method scales linearly with the number of qubits and coupler circuit elements, and therefore is suitable for large circuits. We can use this method via the `get_ising_pwsw` method as:"
   ]
  },
  {
   "cell_type": "code",
   "execution_count": 45,
   "metadata": {},
   "outputs": [
    {
     "name": "stdout",
     "output_type": "stream",
     "text": [
      "calculating qubit isings for qubit 1 of 9\n",
      "calculating qubit isings for qubit 2 of 9\n",
      "calculating qubit isings for qubit 3 of 9\n",
      "calculating qubit isings for qubit 4 of 9\n",
      "calculating qubit isings for qubit 5 of 9\n",
      "calculating qubit isings for qubit 6 of 9\n",
      "calculating qubit isings for qubit 7 of 9\n",
      "calculating qubit isings for qubit 8 of 9\n",
      "calculating qubit isings for qubit 9 of 9\n",
      "calculating coupling strength for coupler 1 of 8\n",
      "calculating coupling strength for coupler 2 of 8\n",
      "calculating coupling strength for coupler 3 of 8\n",
      "calculating coupling strength for coupler 4 of 8\n",
      "calculating coupling strength for coupler 5 of 8\n",
      "calculating coupling strength for coupler 6 of 8\n",
      "calculating coupling strength for coupler 7 of 8\n",
      "calculating coupling strength for coupler 8 of 8\n",
      "schedule point 20 / 20\u001b[1K\r"
     ]
    },
    {
     "data": {
      "text/plain": [
       "dict_keys(['x_0', 'z_0', 'x_1', 'z_1', 'x_2', 'z_2', 'x_3', 'z_3', 'x_4', 'z_4', 'x_5', 'z_5', 'x_6', 'z_6', 'x_7', 'z_7', 'x_8', 'z_8', 'zz_0,1', 'zz_1,2', 'zz_2,3', 'zz_3,4', 'zz_4,5', 'zz_5,6', 'zz_6,7', 'zz_7,8', 'points'])"
      ]
     },
     "execution_count": 45,
     "metadata": {},
     "output_type": "execute_result"
    }
   ],
   "source": [
    "ising_pwsw_dict = circuit.get_ising_pwsw(phi_dict, verbose = True)\n",
    "\n",
    "ising_pwsw_dict.keys()"
   ]
  },
  {
   "attachments": {},
   "cell_type": "markdown",
   "metadata": {},
   "source": [
    "# Output of methods\n",
    "\n",
    "The output of both methods is a dictionary that included the calculated Ising coefficients using these methods. The key `\"points\"` simply includes an integer showing the number of points in the schedule. Qubits are indexed from $0$ to $N$, and the single qubit Ising terms of them are saved as arrays with the keys '\"x_i\" and \"z_i\" where `i` is the index of the qubit. The interaction terms between qubits `i` and `j` are saved in the keys `\"zz_i,j\"` where always `i<j`. The Ising coefficients will be angular frequencies in units of GHz, meaning $\\omega = 2 \\pi f$."
   ]
  },
  {
   "cell_type": "code",
   "execution_count": 48,
   "metadata": {},
   "outputs": [
    {
     "data": {
      "text/plain": [
       "dict_keys(['x_0', 'z_0', 'x_1', 'z_1', 'x_2', 'z_2', 'x_3', 'z_3', 'x_4', 'z_4', 'x_5', 'z_5', 'x_6', 'z_6', 'x_7', 'z_7', 'x_8', 'z_8', 'zz_0,1', 'zz_1,2', 'zz_2,3', 'zz_3,4', 'zz_4,5', 'zz_5,6', 'zz_6,7', 'zz_7,8', 'points'])"
      ]
     },
     "execution_count": 48,
     "metadata": {},
     "output_type": "execute_result"
    }
   ],
   "source": [
    "ising_pwsw_dict.keys()"
   ]
  },
  {
   "attachments": {},
   "cell_type": "markdown",
   "metadata": {},
   "source": [
    "Below we show the results for the Ising coefficients calculated via these two methods, where the solid lines are calculated using full SW, while dashed lines caculated using the pair-wise SW method."
   ]
  },
  {
   "cell_type": "code",
   "execution_count": 50,
   "metadata": {},
   "outputs": [
    {
     "name": "stderr",
     "output_type": "stream",
     "text": [
      "No artists with labels found to put in legend.  Note that artists whose label start with an underscore are ignored when legend() is called with no argument.\n",
      "No artists with labels found to put in legend.  Note that artists whose label start with an underscore are ignored when legend() is called with no argument.\n",
      "No artists with labels found to put in legend.  Note that artists whose label start with an underscore are ignored when legend() is called with no argument.\n",
      "No artists with labels found to put in legend.  Note that artists whose label start with an underscore are ignored when legend() is called with no argument.\n",
      "No artists with labels found to put in legend.  Note that artists whose label start with an underscore are ignored when legend() is called with no argument.\n",
      "No artists with labels found to put in legend.  Note that artists whose label start with an underscore are ignored when legend() is called with no argument.\n",
      "No artists with labels found to put in legend.  Note that artists whose label start with an underscore are ignored when legend() is called with no argument.\n",
      "No artists with labels found to put in legend.  Note that artists whose label start with an underscore are ignored when legend() is called with no argument.\n"
     ]
    },
    {
     "data": {
      "image/png": "[encoded data removed]",
      "text/plain": [
       "<Figure size 1000x1200 with 6 Axes>"
      ]
     },
     "metadata": {},
     "output_type": "display_data"
    }
   ],
   "source": [
    "plt.clf();\n",
    "fig = plt.figure(num=1);\n",
    "fig.set_size_inches((10, 12))\n",
    "\n",
    "for i in range(6):\n",
    "    ax1 = plt.subplot(3, 2, i+1)\n",
    "    \n",
    "    plt.plot(s, ising_pwsw_dict[\"x_\"+str(i)]/2/np.pi, color=\"C0\", ls='--', lw=2.5 )\n",
    "    plt.plot(s, ising_pwsw_dict[\"z_\"+str(i)]/2/np.pi, color=\"C1\", ls='--', lw=2.5 )\n",
    "    \n",
    "    plt.xlabel(r\"$s=t/t_a$\"); plt.ylabel(r\"Ising coefficients (GHZ)\")\n",
    "    plt.legend()\n",
    "    \n",
    "labels = [[0, 1], [1, 2]]\n",
    "for i in range(2):\n",
    "    ax2 = plt.subplot(3, 2, i+5)\n",
    "    \n",
    "    plt.plot(s, ising_pwsw_dict[\"zz_\"+str(labels[i][0])+','+str(labels[i][1])]/2/np.pi, color=\"C0\", ls='--', lw=2.5 )\n",
    "    \n",
    "    plt.xlabel(r\"$s=t/t_a$\"); plt.ylabel(r\"Ising coefficients (GHZ)\")\n",
    "    plt.legend()\n",
    "    \n",
    "plt.tight_layout()\n",
    "plt.show()"
   ]
  },
  {
   "attachments": {},
   "cell_type": "markdown",
   "metadata": {},
   "source": [
    "# Calculating circuit fluxes for a given Ising schedule \n",
    "\n",
    "In this part, we want to find the appropriate circuit biases that yields a desired Ising schedule that we want. For that let us use an Ising schedule that changes linearly with the anneal time. We have to construct the dictionary for this schedule, with the key assignment the same as the ones that the methods of the previous sections were outputting. The Ising coefficients should be angular frequencies in units of GHz, meaning $\\omega = 2\\pi f$."
   ]
  },
  {
   "cell_type": "code",
   "execution_count": 100,
   "metadata": {},
   "outputs": [],
   "source": [
    "ising_dict = {}; pts = 10\n",
    "s = np.linspace(0, 1, pts)\n",
    "ising_dict[\"points\"] = pts\n",
    "\n",
    "for i in range(nqubits):\n",
    "    ising_dict[\"x_\"+str(i)] = np.linspace(1, 0, pts)*2*np.pi\n",
    "\n",
    "# ising_dict[\"x_0\"] = np.linspace(1, 0, pts)*2*np.pi\n",
    "# ising_dict[\"x_1\"] = np.linspace(0.8, 0, pts)*2*np.pi\n",
    "# ising_dict[\"x_2\"] = np.linspace(0.7, 0.05, pts)*2*np.pi\n",
    "# ising_dict[\"x_3\"] = np.linspace(1, 0, pts)*2*np.pi\n",
    "# ising_dict[\"x_4\"] = np.linspace(0.8, 0, pts)*2*np.pi\n",
    "# ising_dict[\"x_5\"] = np.linspace(0.7, 0.05, pts)*2*np.pi\n",
    "# ising_dict[\"x_6\"] = np.linspace(1, 0, pts)*2*np.pi\n",
    "# ising_dict[\"x_7\"] = np.linspace(0.8, 0, pts)*2*np.pi\n",
    "# ising_dict[\"x_8\"] = np.linspace(0.7, 0.05, pts)*2*np.pi\n",
    "\n",
    "\n",
    "# 0.6*Z0*Z4 + 0.6*Z3*Z7 + 0.2*Z0*Z5 + 0.2*Z3*Z8 + 0.6*Z1*Z3 + 0.6*Z4*Z6 + \n",
    "# 0.1*Z1*Z5 + 0.1*Z4*Z8 + 0.2*Z2*Z3 + 0.2*Z5*Z6 + 0.1*Z2*Z4 + 0.1*Z5*Z7 \n",
    "\n",
    "# 4 *( - 4*Z0 - 4 * Z1 - 4 * Z2 - 4 * Z5 - 4 * Z6 -4 * Z7 - 4 * Z8 +  # done\n",
    "#     2 * Z00 + 2 Z11  2 Z22 + 2 Z33 + 2 Z44 + 2 Z55 + 2 Z66 +2 Z66 + 2 Z77 + 2 Z88  # done\n",
    "#     2 Z01 + 2 Z02 + 2 Z03 + 2 Z06 +\n",
    "#     2 Z12 + 2 Z14 + 2 Z17 +\n",
    "#     2 Z25 + 2 Z28\n",
    "#     2 Z36 + 2 Z34 + 2 Z35 +\n",
    "#     2 Z47 + 2 Z45\n",
    "#     2 Z58 +\n",
    "#     2 Z67 + 2 Z68 +\n",
    "#     2 Z78\n",
    "#     )\n",
    "\n",
    "for i in range(nqubits): \n",
    "    ising_dict[\"z_\" + str(i)] = np.linspace(0.0, -16, pts)*2*np.pi\n",
    "    ising_dict[\"zz_\" + str(i) + \",\" + str(i)] = np.linspace(0.0, 8, pts)*2*np.pi\n",
    "\n",
    "for i in range(3):\n",
    "    ising_dict[\"zz_\" + str(0 + i*3) + \",\" + str(1+ i*3)] = np.linspace(0.0, 8, pts)*2*np.pi\n",
    "    ising_dict[\"zz_\" + str(0 + i*3) + \",\" + str(2+ i*3)] = np.linspace(0.0, 8, pts)*2*np.pi\n",
    "    ising_dict[\"zz_\" + str(1 + i*3) + \",\" + str(2 +i*3)] = np.linspace(0.0, 8, pts)*2*np.pi\n",
    "    \n",
    "\n",
    "for i in range(nqubits):\n",
    "    for j in range(nqubits):\n",
    "        if np.abs(j - i ) % 3 == 0: \n",
    "             ising_dict[\"zz_\" + str(i) + \",\" + str(j)] = np.linspace(0.0, 4, pts)*2*np.pi\n",
    " \n",
    "\n",
    "\n",
    "# 0.6*Z0*Z4 + 0.6*Z3*Z7 + 0.2*Z0*Z5 + 0.2*Z3*Z8 + 0.6*Z1*Z3 + 0.6*Z4*Z6 + \n",
    "# 0.1*Z1*Z5 + 0.1*Z4*Z8 + 0.2*Z2*Z3 + 0.2*Z5*Z6 + 0.1*Z2*Z4 + 0.1*Z5*Z7 \n",
    "\n",
    "ising_dict[\"zz_0,4\"] = np.linspace(0.0, 0.6, pts)*2*np.pi\n",
    "ising_dict[\"zz_3,7\"] = np.linspace(0.0, 0.6, pts)*2*np.pi\n",
    "ising_dict[\"zz_0,5\"] = np.linspace(0.0, 0.2, pts)*2*np.pi\n",
    "\n",
    "ising_dict[\"zz_3,8\"] = np.linspace(0.0, 0.2, pts)*2*np.pi\n",
    "ising_dict[\"zz_1,3\"] = np.linspace(0.0, 0.6, pts)*2*np.pi\n",
    "ising_dict[\"zz_4,6\"] = np.linspace(0.0, 0.6, pts)*2*np.pi\n",
    "\n",
    "ising_dict[\"zz_1,5\"] = np.linspace(0.0, 0.1, pts)*2*np.pi\n",
    "ising_dict[\"zz_4,8\"] = np.linspace(0.0, 0.1, pts)*2*np.pi\n",
    "ising_dict[\"zz_2,3\"] = np.linspace(0.0, 0.2, pts)*2*np.pi\n",
    "\n",
    "ising_dict[\"zz_5,6\"] = np.linspace(0.0, 0.2, pts)*2*np.pi\n",
    "ising_dict[\"zz_2,4\"] = np.linspace(0.0, 0.1, pts)*2*np.pi\n",
    "ising_dict[\"zz_5,7\"] = np.linspace(0.0, 0.1, pts)*2*np.pi\n",
    "\n",
    "\n",
    "# ising_dict[\"z_0\"] = np.linspace(0.0, 1, pts)*2*np.pi\n",
    "# ising_dict[\"z_1\"] = np.linspace(0, 0.8, pts)*2*np.pi\n",
    "# ising_dict[\"z_2\"] = np.linspace(0, 0.9, pts)*2*np.pi\n",
    "# ising_dict[\"z_3\"] = np.linspace(0.0, 1, pts)*2*np.pi\n",
    "# ising_dict[\"z_4\"] = np.linspace(0, 0.8, pts)*2*np.pi\n",
    "# ising_dict[\"z_5\"] = np.linspace(0, 0.9, pts)*2*np.pi\n",
    "# ising_dict[\"z_6\"] = np.linspace(0.0, 1, pts)*2*np.pi\n",
    "# ising_dict[\"z_7\"] = np.linspace(0, 0.8, pts)*2*np.pi\n",
    "# ising_dict[\"z_8\"] = np.linspace(0, 0.9, pts)*2*np.pi\n",
    "\n",
    "# ising_dict[\"zz_0,1\"] = -np.linspace(0.0, 0.9, pts)*2*np.pi\n",
    "# ising_dict[\"zz_1,2\"] = np.linspace(0.0, 0.8, pts)*2*np.pi\n",
    "# ising_dict[\"zz_2,3\"] = -np.linspace(0.0, 0.9, pts)*2*np.pi\n",
    "# ising_dict[\"zz_3,4\"] = np.linspace(0.0, 0.8, pts)*2*np.pi\n",
    "# ising_dict[\"zz_4,5\"] = -np.linspace(0.0, 0.9, pts)*2*np.pi\n",
    "# ising_dict[\"zz_5,6\"] = np.linspace(0.0, 0.8, pts)*2*np.pi\n",
    "# ising_dict[\"zz_6,7\"] = -np.linspace(0.0, 0.9, pts)*2*np.pi\n",
    "# ising_dict[\"zz_7,8\"] = -np.linspace(0.0, 0.9, pts)*2*np.pi"
   ]
  },
  {
   "cell_type": "code",
   "execution_count": 101,
   "metadata": {},
   "outputs": [
    {
     "data": {
      "text/plain": [
       "dict_keys(['points', 'x_0', 'x_1', 'x_2', 'x_3', 'x_4', 'x_5', 'x_6', 'x_7', 'x_8', 'z_0', 'zz_0,0', 'z_1', 'zz_1,1', 'z_2', 'zz_2,2', 'z_3', 'zz_3,3', 'z_4', 'zz_4,4', 'z_5', 'zz_5,5', 'z_6', 'zz_6,6', 'z_7', 'zz_7,7', 'z_8', 'zz_8,8', 'zz_0,1', 'zz_0,2', 'zz_1,2', 'zz_3,4', 'zz_3,5', 'zz_4,5', 'zz_6,7', 'zz_6,8', 'zz_7,8', 'zz_0,3', 'zz_0,6', 'zz_1,4', 'zz_1,7', 'zz_2,5', 'zz_2,8', 'zz_3,0', 'zz_3,6', 'zz_4,1', 'zz_4,7', 'zz_5,2', 'zz_5,8', 'zz_6,0', 'zz_6,3', 'zz_7,1', 'zz_7,4', 'zz_8,2', 'zz_8,5', 'zz_0,4', 'zz_3,7', 'zz_0,5', 'zz_3,8', 'zz_1,3', 'zz_4,6', 'zz_1,5', 'zz_4,8', 'zz_2,3', 'zz_5,6', 'zz_2,4', 'zz_5,7'])"
      ]
     },
     "execution_count": 101,
     "metadata": {},
     "output_type": "execute_result"
    }
   ],
   "source": [
    "ising_dict.keys()"
   ]
  },
  {
   "attachments": {},
   "cell_type": "markdown",
   "metadata": {},
   "source": [
    "# Circuit fluxes via numerical optimization using full SW\n",
    "\n",
    "For this, we construct the Ising coefficients using the full SW method, and then use optimization algorithms to find fluxes that minimize the distance between calculated Ising and desired schedules. Since this uses the full SW method its computational cost scales exponentially with the number of qubits and couplers. Even worse, the algorithm will construct the full SW of the system multiple times at each point, which makes it take much longer to compute (note the wall time for the following cell). Of course this method only workds for small circuits, but nevertheless it is invoked via the `get_custom_fluxes_num` method. The `optimizer_method` argument tells what optimization algorithm to use for this routine, and experience shows `leastsq` is decent method for most cases."
   ]
  },
  {
   "cell_type": "code",
   "execution_count": null,
   "metadata": {},
   "outputs": [],
   "source": [
    "# This takes so much time \n",
    "\n",
    "# custom_flux_dict_num = circuit.get_custom_fluxes_num(ising_dict, verbose = True, optimizer_method = \"leastsq\")"
   ]
  },
  {
   "attachments": {},
   "cell_type": "markdown",
   "metadata": {},
   "source": [
    "# Circuit fluxes via pair-wise SW\n",
    "\n",
    "This uses the pair-wise SW method to calculate the appropriate circuit biases that yields our desired schedules. For that, the qubit x and z biases are calculated so that it yields our desired single qubit Ising terms. These single qubit x and z biases are found by numerically optimizing the qubit circuit biases to find the ones that yields our desired Ising coefficients. For the coupler bias, its z-bias is always kept at degeneracy, and for its x-bias, we form pairs of qubit-coupler-qubit, construct SW for that pair and calculate the interaction between them. Then we use this as kind of \"look-up table\" to find the coupler x-bias that yields our desired interaction. This method only scales linearly with the number or qubit and coupler circuits, therefore it can be used for large circuits. For that we use the `get_custom_fluxes_pwsw` method of this module. The `optimizer_method` argument tells what optimization algorithm to use for single qubit flux extraction, and `leastsq` is a good method for that "
   ]
  },
  {
   "cell_type": "code",
   "execution_count": 102,
   "metadata": {},
   "outputs": [
    {
     "name": "stdout",
     "output_type": "stream",
     "text": [
      "calculating qubit biases for qubit 1 of 9\n",
      "point #1 single qubit residuals: \n",
      " [ 0.19054608 -3.7678684 ] \n",
      "\n",
      "schedule point 3 / 10\u001b[1K\r"
     ]
    },
    {
     "name": "stderr",
     "output_type": "stream",
     "text": [
      "/Users/enriquenb/Documents/GitHub/CAS/cas/elements.py:617: UserWarning: For the point #1, solver found solutions that are not optimal. The relative error is 30.21 % for single qubit residuals\n",
      "  warnings.warn(\n"
     ]
    },
    {
     "name": "stdout",
     "output_type": "stream",
     "text": [
      "point #2 single qubit residuals: \n",
      " [  0.74938269 -14.33682073] \n",
      "\n",
      "point #3 single qubit residuals: \n",
      " [  1.34517363 -24.88244619] \n",
      "\n",
      "point #4 single qubit residuals: \n",
      " [  1.98826447 -35.40291103] \n",
      "\n",
      "point #5 single qubit residuals: \n",
      " [  2.70788356 -45.88997982] \n",
      "\n",
      "schedule point 7 / 10\u001b[1K\r"
     ]
    },
    {
     "name": "stderr",
     "output_type": "stream",
     "text": [
      "/Users/enriquenb/Documents/GitHub/CAS/cas/elements.py:617: UserWarning: For the point #5, solver found solutions that are not optimal. The relative error is 82.21 % for single qubit residuals\n",
      "  warnings.warn(\n"
     ]
    },
    {
     "name": "stdout",
     "output_type": "stream",
     "text": [
      "point #6 single qubit residuals: \n",
      " [  3.64949226 -56.31490546] \n",
      "\n",
      "point #7 single qubit residuals: \n",
      " [  5.33754806 -66.57198522] \n",
      "\n",
      "point #8 single qubit residuals: \n",
      " [-83.83722813 -89.14863528] \n",
      "\n",
      "schedule point 10 / 10\u001b[1K\r"
     ]
    },
    {
     "name": "stderr",
     "output_type": "stream",
     "text": [
      "/Users/enriquenb/Documents/GitHub/CAS/cas/elements.py:617: UserWarning: For the point #8, solver found solutions that are not optimal. The relative error is 136.94 % for single qubit residuals\n",
      "  warnings.warn(\n"
     ]
    },
    {
     "name": "stdout",
     "output_type": "stream",
     "text": [
      "point #9 single qubit residuals: \n",
      " [-340.87535154 -100.50623611] \n",
      "\n",
      "calculating qubit biases for qubit 2 of 9\n",
      "schedule point 1 / 10\u001b[1K\r"
     ]
    },
    {
     "name": "stderr",
     "output_type": "stream",
     "text": [
      "/Users/enriquenb/Documents/GitHub/CAS/cas/elements.py:617: UserWarning: For the point #9, solver found solutions that are not optimal. The relative error is 353.51 % for single qubit residuals\n",
      "  warnings.warn(\n"
     ]
    },
    {
     "name": "stdout",
     "output_type": "stream",
     "text": [
      "point #1 single qubit residuals: \n",
      " [ 0.19089178 -3.76690563] \n",
      "\n",
      "schedule point 3 / 10\u001b[1K\r"
     ]
    },
    {
     "name": "stderr",
     "output_type": "stream",
     "text": [
      "/Users/enriquenb/Documents/GitHub/CAS/cas/elements.py:617: UserWarning: For the point #1, solver found solutions that are not optimal. The relative error is 30.20 % for single qubit residuals\n",
      "  warnings.warn(\n"
     ]
    },
    {
     "name": "stdout",
     "output_type": "stream",
     "text": [
      "point #2 single qubit residuals: \n",
      " [  0.75151657 -14.33441226] \n",
      "\n",
      "schedule point 4 / 10\u001b[1K\r"
     ]
    },
    {
     "name": "stderr",
     "output_type": "stream",
     "text": [
      "/Users/enriquenb/Documents/GitHub/CAS/cas/elements.py:617: UserWarning: For the point #2, solver found solutions that are not optimal. The relative error is 62.77 % for single qubit residuals\n",
      "  warnings.warn(\n"
     ]
    },
    {
     "name": "stdout",
     "output_type": "stream",
     "text": [
      "point #3 single qubit residuals: \n",
      " [  1.34761386 -24.87860423] \n",
      "\n",
      "schedule point 5 / 10\u001b[1K\r"
     ]
    },
    {
     "name": "stderr",
     "output_type": "stream",
     "text": [
      "/Users/enriquenb/Documents/GitHub/CAS/cas/elements.py:617: UserWarning: For the point #3, solver found solutions that are not optimal. The relative error is 73.78 % for single qubit residuals\n",
      "  warnings.warn(\n"
     ]
    },
    {
     "name": "stdout",
     "output_type": "stream",
     "text": [
      "point #4 single qubit residuals: \n",
      " [  1.99588688 -35.39733841] \n",
      "\n",
      "schedule point 6 / 10\u001b[1K\r"
     ]
    },
    {
     "name": "stderr",
     "output_type": "stream",
     "text": [
      "/Users/enriquenb/Documents/GitHub/CAS/cas/elements.py:617: UserWarning: For the point #4, solver found solutions that are not optimal. The relative error is 79.11 % for single qubit residuals\n",
      "  warnings.warn(\n"
     ]
    },
    {
     "name": "stdout",
     "output_type": "stream",
     "text": [
      "point #5 single qubit residuals: \n",
      " [  2.7232143  -45.88250968] \n",
      "\n",
      "schedule point 7 / 10\u001b[1K\r"
     ]
    },
    {
     "name": "stderr",
     "output_type": "stream",
     "text": [
      "/Users/enriquenb/Documents/GitHub/CAS/cas/elements.py:617: UserWarning: For the point #5, solver found solutions that are not optimal. The relative error is 82.19 % for single qubit residuals\n",
      "  warnings.warn(\n"
     ]
    },
    {
     "name": "stdout",
     "output_type": "stream",
     "text": [
      "point #6 single qubit residuals: \n",
      " [  3.6482009  -56.30704568] \n",
      "\n",
      "schedule point 8 / 10\u001b[1K\r"
     ]
    },
    {
     "name": "stderr",
     "output_type": "stream",
     "text": [
      "/Users/enriquenb/Documents/GitHub/CAS/cas/elements.py:617: UserWarning: For the point #6, solver found solutions that are not optimal. The relative error is 84.15 % for single qubit residuals\n",
      "  warnings.warn(\n"
     ]
    },
    {
     "name": "stdout",
     "output_type": "stream",
     "text": [
      "point #7 single qubit residuals: \n",
      " [  5.35155548 -66.56150752] \n",
      "\n",
      "schedule point 9 / 10\u001b[1K\r"
     ]
    },
    {
     "name": "stderr",
     "output_type": "stream",
     "text": [
      "/Users/enriquenb/Documents/GitHub/CAS/cas/elements.py:617: UserWarning: For the point #7, solver found solutions that are not optimal. The relative error is 85.39 % for single qubit residuals\n",
      "  warnings.warn(\n"
     ]
    },
    {
     "name": "stdout",
     "output_type": "stream",
     "text": [
      "point #8 single qubit residuals: \n",
      " [-84.59401304 -89.1498048 ] \n",
      "\n",
      "schedule point 10 / 10\u001b[1K\r"
     ]
    },
    {
     "name": "stderr",
     "output_type": "stream",
     "text": [
      "/Users/enriquenb/Documents/GitHub/CAS/cas/elements.py:617: UserWarning: For the point #8, solver found solutions that are not optimal. The relative error is 137.53 % for single qubit residuals\n",
      "  warnings.warn(\n"
     ]
    },
    {
     "name": "stdout",
     "output_type": "stream",
     "text": [
      "point #9 single qubit residuals: \n",
      " [-452.32797105 -100.52380371] \n",
      "\n",
      "calculating qubit biases for qubit 3 of 9\n",
      "schedule point 1 / 10\u001b[1K\r"
     ]
    },
    {
     "name": "stderr",
     "output_type": "stream",
     "text": [
      "/Users/enriquenb/Documents/GitHub/CAS/cas/elements.py:617: UserWarning: For the point #9, solver found solutions that are not optimal. The relative error is 460.92 % for single qubit residuals\n",
      "  warnings.warn(\n"
     ]
    },
    {
     "name": "stdout",
     "output_type": "stream",
     "text": [
      "point #1 single qubit residuals: \n",
      " [ 0.1909269  -3.76690362] \n",
      "\n",
      "point #2 single qubit residuals: \n",
      " [  0.7514014  -14.33441776] \n",
      "\n",
      "point #3 single qubit residuals: \n",
      " [  1.34700418 -24.87863649] \n",
      "\n",
      "point #4 single qubit residuals: \n",
      " [  1.99513055 -35.39738021] \n",
      "\n",
      "point #5 single qubit residuals: \n",
      " [  2.71504016 -45.88299423] \n",
      "\n",
      "point #6 single qubit residuals: \n",
      " [  3.65232532 -56.30677521] \n",
      "\n",
      "point #7 single qubit residuals: \n",
      " [  5.35667257 -66.56109158] \n",
      "\n",
      "point #8 single qubit residuals: \n",
      " [-82.88610285 -89.14726403] \n",
      "\n",
      "schedule point 10 / 10\u001b[1K\r"
     ]
    },
    {
     "name": "stderr",
     "output_type": "stream",
     "text": [
      "/Users/enriquenb/Documents/GitHub/CAS/cas/elements.py:617: UserWarning: For the point #8, solver found solutions that are not optimal. The relative error is 136.21 % for single qubit residuals\n",
      "  warnings.warn(\n"
     ]
    },
    {
     "name": "stdout",
     "output_type": "stream",
     "text": [
      "point #9 single qubit residuals: \n",
      " [-431.91008995 -100.52178908] \n",
      "\n",
      "calculating qubit biases for qubit 4 of 9\n",
      "schedule point 1 / 10\u001b[1K\r"
     ]
    },
    {
     "name": "stderr",
     "output_type": "stream",
     "text": [
      "/Users/enriquenb/Documents/GitHub/CAS/cas/elements.py:617: UserWarning: For the point #9, solver found solutions that are not optimal. The relative error is 441.11 % for single qubit residuals\n",
      "  warnings.warn(\n"
     ]
    },
    {
     "name": "stdout",
     "output_type": "stream",
     "text": [
      "point #1 single qubit residuals: \n",
      " [ 0.19088599 -3.7669057 ] \n",
      "\n",
      "point #2 single qubit residuals: \n",
      " [  0.75117747 -14.33442953] \n",
      "\n",
      "point #3 single qubit residuals: \n",
      " [  1.34981508 -24.87848362] \n",
      "\n",
      "point #4 single qubit residuals: \n",
      " [  1.99530129 -35.39737024] \n",
      "\n",
      "point #5 single qubit residuals: \n",
      " [  2.71388489 -45.88306306] \n",
      "\n",
      "point #6 single qubit residuals: \n",
      " [  3.66254917 -56.3061098 ] \n",
      "\n",
      "point #7 single qubit residuals: \n",
      " [  5.34829198 -66.56176919] \n",
      "\n",
      "point #8 single qubit residuals: \n",
      " [-85.072383   -89.15051286] \n",
      "\n",
      "schedule point 10 / 10\u001b[1K\r"
     ]
    },
    {
     "name": "stderr",
     "output_type": "stream",
     "text": [
      "/Users/enriquenb/Documents/GitHub/CAS/cas/elements.py:617: UserWarning: For the point #8, solver found solutions that are not optimal. The relative error is 137.90 % for single qubit residuals\n",
      "  warnings.warn(\n"
     ]
    }
   ],
   "source": [
    "custom_flux_dict_pwsw = circuit.get_custom_fluxes_pwsw(ising_dict, verbose=True, optimizer_method=\"leastsq\")"
   ]
  },
  {
   "attachments": {},
   "cell_type": "markdown",
   "metadata": {},
   "source": [
    "## Output of methods \n",
    "\n",
    "The output of both methods is a dictionary that included the calculated circuit fluxes. "
   ]
  },
  {
   "cell_type": "code",
   "execution_count": 89,
   "metadata": {},
   "outputs": [
    {
     "data": {
      "text/plain": [
       "dict_keys(['points', 'phix_0', 'phiz_0', 'phix_1', 'phiz_1', 'phix_2', 'phiz_2'])"
      ]
     },
     "execution_count": 89,
     "metadata": {},
     "output_type": "execute_result"
    }
   ],
   "source": [
    "custom_flux_dict_pwsw.keys()"
   ]
  },
  {
   "attachments": {},
   "cell_type": "markdown",
   "metadata": {},
   "source": [
    "Below we plot the extracted circuit biases using these methods, where the solid lines are calculated using numerical method, while the dashed lines are calculated using the pair-wise method."
   ]
  },
  {
   "cell_type": "code",
   "execution_count": 74,
   "metadata": {},
   "outputs": [
    {
     "ename": "ValueError",
     "evalue": "x and y must have same first dimension, but have shapes (20,) and (10,)",
     "output_type": "error",
     "traceback": [
      "\u001b[0;31m---------------------------------------------------------------------------\u001b[0m",
      "\u001b[0;31mValueError\u001b[0m                                Traceback (most recent call last)",
      "Cell \u001b[0;32mIn[74], line 9\u001b[0m\n\u001b[1;32m      5\u001b[0m ax1 \u001b[39m=\u001b[39m plt\u001b[39m.\u001b[39msubplot(\u001b[39m2\u001b[39m, \u001b[39m2\u001b[39m, \u001b[39m1\u001b[39m)\n\u001b[1;32m      6\u001b[0m \u001b[39mfor\u001b[39;00m i, qubit_index \u001b[39min\u001b[39;00m \u001b[39menumerate\u001b[39m(circuit\u001b[39m.\u001b[39mqubit_indices):\n\u001b[1;32m      7\u001b[0m     \n\u001b[1;32m      8\u001b[0m \u001b[39m#    plt.plot(s, custom_flux_dict_num[\"phix_\"+str(qubit_index)]/2/np.pi, label=r\"qubit$_{0:d}$\".format(i))\u001b[39;00m\n\u001b[0;32m----> 9\u001b[0m     plt\u001b[39m.\u001b[39;49mplot(s, custom_flux_dict_pwsw[\u001b[39m\"\u001b[39;49m\u001b[39mphix_\u001b[39;49m\u001b[39m\"\u001b[39;49m\u001b[39m+\u001b[39;49m\u001b[39mstr\u001b[39;49m(qubit_index)]\u001b[39m/\u001b[39;49m\u001b[39m2\u001b[39;49m\u001b[39m/\u001b[39;49mnp\u001b[39m.\u001b[39;49mpi, \u001b[39m'\u001b[39;49m\u001b[39m--\u001b[39;49m\u001b[39m'\u001b[39;49m, color\u001b[39m=\u001b[39;49m\u001b[39m\"\u001b[39;49m\u001b[39mC\u001b[39;49m\u001b[39m{0:d}\u001b[39;49;00m\u001b[39m\"\u001b[39;49m\u001b[39m.\u001b[39;49mformat(i), lw\u001b[39m=\u001b[39;49m\u001b[39m2.5\u001b[39;49m)\n\u001b[1;32m     11\u001b[0m     plt\u001b[39m.\u001b[39mxlabel(\u001b[39mr\u001b[39m\u001b[39m\"\u001b[39m\u001b[39m$s=t/t_a$\u001b[39m\u001b[39m\"\u001b[39m); plt\u001b[39m.\u001b[39mylabel(\u001b[39mr\u001b[39m\u001b[39m\"\u001b[39m\u001b[39m$\u001b[39m\u001b[39m\\\u001b[39m\u001b[39mvarphi_x/2\u001b[39m\u001b[39m\\\u001b[39m\u001b[39mpi$\u001b[39m\u001b[39m\"\u001b[39m)\n\u001b[1;32m     12\u001b[0m     plt\u001b[39m.\u001b[39mlegend()\n",
      "File \u001b[0;32m~/opt/anaconda3/envs/Qilimanjaro-ETH-Hackathon/lib/python3.8/site-packages/matplotlib/pyplot.py:2812\u001b[0m, in \u001b[0;36mplot\u001b[0;34m(scalex, scaley, data, *args, **kwargs)\u001b[0m\n\u001b[1;32m   2810\u001b[0m \u001b[39m@_copy_docstring_and_deprecators\u001b[39m(Axes\u001b[39m.\u001b[39mplot)\n\u001b[1;32m   2811\u001b[0m \u001b[39mdef\u001b[39;00m \u001b[39mplot\u001b[39m(\u001b[39m*\u001b[39margs, scalex\u001b[39m=\u001b[39m\u001b[39mTrue\u001b[39;00m, scaley\u001b[39m=\u001b[39m\u001b[39mTrue\u001b[39;00m, data\u001b[39m=\u001b[39m\u001b[39mNone\u001b[39;00m, \u001b[39m*\u001b[39m\u001b[39m*\u001b[39mkwargs):\n\u001b[0;32m-> 2812\u001b[0m     \u001b[39mreturn\u001b[39;00m gca()\u001b[39m.\u001b[39;49mplot(\n\u001b[1;32m   2813\u001b[0m         \u001b[39m*\u001b[39;49margs, scalex\u001b[39m=\u001b[39;49mscalex, scaley\u001b[39m=\u001b[39;49mscaley,\n\u001b[1;32m   2814\u001b[0m         \u001b[39m*\u001b[39;49m\u001b[39m*\u001b[39;49m({\u001b[39m\"\u001b[39;49m\u001b[39mdata\u001b[39;49m\u001b[39m\"\u001b[39;49m: data} \u001b[39mif\u001b[39;49;00m data \u001b[39mis\u001b[39;49;00m \u001b[39mnot\u001b[39;49;00m \u001b[39mNone\u001b[39;49;00m \u001b[39melse\u001b[39;49;00m {}), \u001b[39m*\u001b[39;49m\u001b[39m*\u001b[39;49mkwargs)\n",
      "File \u001b[0;32m~/opt/anaconda3/envs/Qilimanjaro-ETH-Hackathon/lib/python3.8/site-packages/matplotlib/axes/_axes.py:1688\u001b[0m, in \u001b[0;36mAxes.plot\u001b[0;34m(self, scalex, scaley, data, *args, **kwargs)\u001b[0m\n\u001b[1;32m   1445\u001b[0m \u001b[39m\u001b[39m\u001b[39m\"\"\"\u001b[39;00m\n\u001b[1;32m   1446\u001b[0m \u001b[39mPlot y versus x as lines and/or markers.\u001b[39;00m\n\u001b[1;32m   1447\u001b[0m \n\u001b[0;32m   (...)\u001b[0m\n\u001b[1;32m   1685\u001b[0m \u001b[39m(``'green'``) or hex strings (``'#008000'``).\u001b[39;00m\n\u001b[1;32m   1686\u001b[0m \u001b[39m\"\"\"\u001b[39;00m\n\u001b[1;32m   1687\u001b[0m kwargs \u001b[39m=\u001b[39m cbook\u001b[39m.\u001b[39mnormalize_kwargs(kwargs, mlines\u001b[39m.\u001b[39mLine2D)\n\u001b[0;32m-> 1688\u001b[0m lines \u001b[39m=\u001b[39m [\u001b[39m*\u001b[39m\u001b[39mself\u001b[39m\u001b[39m.\u001b[39m_get_lines(\u001b[39m*\u001b[39margs, data\u001b[39m=\u001b[39mdata, \u001b[39m*\u001b[39m\u001b[39m*\u001b[39mkwargs)]\n\u001b[1;32m   1689\u001b[0m \u001b[39mfor\u001b[39;00m line \u001b[39min\u001b[39;00m lines:\n\u001b[1;32m   1690\u001b[0m     \u001b[39mself\u001b[39m\u001b[39m.\u001b[39madd_line(line)\n",
      "File \u001b[0;32m~/opt/anaconda3/envs/Qilimanjaro-ETH-Hackathon/lib/python3.8/site-packages/matplotlib/axes/_base.py:311\u001b[0m, in \u001b[0;36m_process_plot_var_args.__call__\u001b[0;34m(self, data, *args, **kwargs)\u001b[0m\n\u001b[1;32m    309\u001b[0m     this \u001b[39m+\u001b[39m\u001b[39m=\u001b[39m args[\u001b[39m0\u001b[39m],\n\u001b[1;32m    310\u001b[0m     args \u001b[39m=\u001b[39m args[\u001b[39m1\u001b[39m:]\n\u001b[0;32m--> 311\u001b[0m \u001b[39myield from\u001b[39;00m \u001b[39mself\u001b[39;49m\u001b[39m.\u001b[39;49m_plot_args(\n\u001b[1;32m    312\u001b[0m     this, kwargs, ambiguous_fmt_datakey\u001b[39m=\u001b[39;49mambiguous_fmt_datakey)\n",
      "File \u001b[0;32m~/opt/anaconda3/envs/Qilimanjaro-ETH-Hackathon/lib/python3.8/site-packages/matplotlib/axes/_base.py:504\u001b[0m, in \u001b[0;36m_process_plot_var_args._plot_args\u001b[0;34m(self, tup, kwargs, return_kwargs, ambiguous_fmt_datakey)\u001b[0m\n\u001b[1;32m    501\u001b[0m     \u001b[39mself\u001b[39m\u001b[39m.\u001b[39maxes\u001b[39m.\u001b[39myaxis\u001b[39m.\u001b[39mupdate_units(y)\n\u001b[1;32m    503\u001b[0m \u001b[39mif\u001b[39;00m x\u001b[39m.\u001b[39mshape[\u001b[39m0\u001b[39m] \u001b[39m!=\u001b[39m y\u001b[39m.\u001b[39mshape[\u001b[39m0\u001b[39m]:\n\u001b[0;32m--> 504\u001b[0m     \u001b[39mraise\u001b[39;00m \u001b[39mValueError\u001b[39;00m(\u001b[39mf\u001b[39m\u001b[39m\"\u001b[39m\u001b[39mx and y must have same first dimension, but \u001b[39m\u001b[39m\"\u001b[39m\n\u001b[1;32m    505\u001b[0m                      \u001b[39mf\u001b[39m\u001b[39m\"\u001b[39m\u001b[39mhave shapes \u001b[39m\u001b[39m{\u001b[39;00mx\u001b[39m.\u001b[39mshape\u001b[39m}\u001b[39;00m\u001b[39m and \u001b[39m\u001b[39m{\u001b[39;00my\u001b[39m.\u001b[39mshape\u001b[39m}\u001b[39;00m\u001b[39m\"\u001b[39m)\n\u001b[1;32m    506\u001b[0m \u001b[39mif\u001b[39;00m x\u001b[39m.\u001b[39mndim \u001b[39m>\u001b[39m \u001b[39m2\u001b[39m \u001b[39mor\u001b[39;00m y\u001b[39m.\u001b[39mndim \u001b[39m>\u001b[39m \u001b[39m2\u001b[39m:\n\u001b[1;32m    507\u001b[0m     \u001b[39mraise\u001b[39;00m \u001b[39mValueError\u001b[39;00m(\u001b[39mf\u001b[39m\u001b[39m\"\u001b[39m\u001b[39mx and y can be no greater than 2D, but have \u001b[39m\u001b[39m\"\u001b[39m\n\u001b[1;32m    508\u001b[0m                      \u001b[39mf\u001b[39m\u001b[39m\"\u001b[39m\u001b[39mshapes \u001b[39m\u001b[39m{\u001b[39;00mx\u001b[39m.\u001b[39mshape\u001b[39m}\u001b[39;00m\u001b[39m and \u001b[39m\u001b[39m{\u001b[39;00my\u001b[39m.\u001b[39mshape\u001b[39m}\u001b[39;00m\u001b[39m\"\u001b[39m)\n",
      "\u001b[0;31mValueError\u001b[0m: x and y must have same first dimension, but have shapes (20,) and (10,)"
     ]
    },
    {
     "data": {
      "image/png": "[encoded data removed]",
      "text/plain": [
       "<Figure size 1000x700 with 1 Axes>"
      ]
     },
     "metadata": {},
     "output_type": "display_data"
    }
   ],
   "source": [
    "plt.clf();\n",
    "fig = plt.figure(num=1);\n",
    "fig.set_size_inches((10, 7))\n",
    "\n",
    "ax1 = plt.subplot(2, 2, 1)\n",
    "for i, qubit_index in enumerate(circuit.qubit_indices):\n",
    "    \n",
    "#    plt.plot(s, custom_flux_dict_num[\"phix_\"+str(qubit_index)]/2/np.pi, label=r\"qubit$_{0:d}$\".format(i))\n",
    "    plt.plot(s, custom_flux_dict_pwsw[\"phix_\"+str(qubit_index)]/2/np.pi, '--', color=\"C{0:d}\".format(i), lw=2.5)\n",
    "    \n",
    "    plt.xlabel(r\"$s=t/t_a$\"); plt.ylabel(r\"$\\varphi_x/2\\pi$\")\n",
    "    plt.legend()\n",
    "\n",
    "ax2 = plt.subplot(2, 2, 2)\n",
    "for i, qubit_index in enumerate(circuit.qubit_indices):\n",
    "    \n",
    "#    plt.plot(s, custom_flux_dict_num[\"phiz_\"+str(qubit_index)]/2/np.pi, label=r\"qubit$_{0:d}$\".format(i))\n",
    "    plt.plot(s, custom_flux_dict_pwsw[\"phiz_\"+str(qubit_index)]/2/np.pi, '--', color=\"C{0:d}\".format(i), lw=2.5)\n",
    "    \n",
    "    plt.xlabel(r\"$s=t/t_a$\"); plt.ylabel(r\"$\\varphi_z/2\\pi$\")\n",
    "    plt.legend()\n",
    "    \n",
    "ax3 = plt.subplot(2, 2, 3)\n",
    "# plt.hlines(1, 0, 1, alpha=0.3)\n",
    "for i, coupler_index in enumerate(circuit.coupler_indices):\n",
    "    \n",
    "#    plt.plot(s, custom_flux_dict_num[\"phix_\"+str(coupler_index)]/2/np.pi, label=r\"coupler$_{0:d}$\".format(i))\n",
    "    plt.plot(s, custom_flux_dict_pwsw[\"phix_\"+str(coupler_index)]/2/np.pi, '--', color=\"C{0:d}\".format(i), lw=2.5)\n",
    "    \n",
    "    plt.xlabel(r\"$s=t/t_a$\"); plt.ylabel(r\"$\\varphi_x/2\\pi$\")\n",
    "    plt.legend()\n",
    "    \n",
    "ax4 = plt.subplot(2, 2, 4)\n",
    "for i, coupler_index in enumerate(circuit.coupler_indices):\n",
    "    \n",
    "#    plt.plot(s, custom_flux_dict_num[\"phiz_\"+str(coupler_index)]/2/np.pi, label=r\"coupler$_{0:d}$\".format(i))\n",
    "    plt.plot(s, custom_flux_dict_pwsw[\"phiz_\"+str(coupler_index)]/2/np.pi, '--', color=\"C{0:d}\".format(i), lw=2.5)\n",
    "    \n",
    "    plt.xlabel(r\"$s=t/t_a$\"); plt.ylabel(r\"$\\varphi_z/2\\pi$\")\n",
    "    plt.legend()\n",
    "    \n",
    "    \n",
    "plt.tight_layout()\n",
    "plt.show()"
   ]
  },
  {
   "attachments": {},
   "cell_type": "markdown",
   "metadata": {},
   "source": [
    "# DQA\n",
    "\n",
    "In this section we are looking for implementing DQA for an arbitrary system "
   ]
  },
  {
   "cell_type": "code",
   "execution_count": 53,
   "metadata": {},
   "outputs": [],
   "source": [
    "import numpy as np\n",
    "import scipy as sc\n",
    "import matplotlib.pyplot as plt\n",
    "import cas as cas\n",
    "import importlib\n",
    "import pickle"
   ]
  },
  {
   "cell_type": "code",
   "execution_count": 54,
   "metadata": {},
   "outputs": [
    {
     "name": "stderr",
     "output_type": "stream",
     "text": [
      "/Users/enriquenb/opt/anaconda3/envs/Qilimanjaro-ETH-Hackathon/lib/python3.8/site-packages/scipy/sparse/linalg/_dsolve/linsolve.py:394: SparseEfficiencyWarning: splu converted its input to CSC format\n",
      "  warn('splu converted its input to CSC format', SparseEfficiencyWarning)\n"
     ]
    }
   ],
   "source": [
    "i_c = 230; c_shunt = 50; c_z = 4.4; lq = 480; alpha = 0.4; d = 0.0\n",
    "qubit0 = cas.CSFQ(i_c, c_shunt, c_z, lq, alpha, d, 5, 10, 10)\n",
    "qubit1 = cas.CSFQ(i_c, c_shunt, c_z, lq, alpha, d, 5, 10, 10)\n",
    "\n",
    "i_sigma = 565; c_sigma = 11; lc = 580; d = 0.0\n",
    "coupler01 = cas.Coupler(i_sigma, c_sigma, lc, d)\n",
    "\n",
    "elements = [qubit0, coupler01, qubit1]\n",
    "\n",
    "# couple qubits in a chain\n",
    "\n",
    "m = 65; m_mat = np.zeros((3,3));\n",
    "m_mat[0, 1] = m; m_mat[1, 2] = -m;\n",
    "m_mat = -(m_mat + m_mat.T)\n",
    "\n",
    "trunc_vec = np.array([7, 4, 7])\n",
    "\n",
    "circuit = cas.AnnealingCircuit(elements, m_mat, trunc_vec)"
   ]
  },
  {
   "cell_type": "code",
   "execution_count": 57,
   "metadata": {},
   "outputs": [],
   "source": [
    "schedule_dict = {}; pts = 10;\n",
    "s = np.linspace(0, 1, pts)\n",
    "schedule_dict[\"points\"] = pts\n",
    "\n",
    "s1 = 0.1; # location of first minimum gap\n",
    "Delta_1 = 0.05*2*np.pi; # size of the first minimum gap\n",
    "hx1 = 0.5*2*np.pi; hx2 = 1*2*np.pi;\n",
    "hz1 = 0.5*2*np.pi; hz2 = 0.8*2*np.pi;\n",
    "J = 0.7*2*np.pi\n",
    "\n",
    "schedule_dict[\"x_0\"] = hx1*np.array([(Delta_1/2/hx1 - 1)*(s/s1) + 1 if s<=s1 else (Delta_1/2/hx1)*((s-1)/(s1-1)) for s in s])\n",
    "schedule_dict[\"z_0\"] = hz1*np.array([0 if s<=s1 else (s-s1)/(1-s1) for s in s])\n",
    "\n",
    "schedule_dict[\"x_1\"] = hx2*np.array([1 if s<=s1 else ((s-1)/(s1-1)) for s in s])\n",
    "schedule_dict[\"z_1\"] = hz2*np.array([0 if s<=s1 else (s-s1)/(1-s1) for s in s])\n",
    "\n",
    "schedule_dict[\"zz_0,1\"] = J*np.array([0 if s<=s1 else (s-s1)/(1-s1) for s in s])"
   ]
  },
  {
   "cell_type": "code",
   "execution_count": 59,
   "metadata": {},
   "outputs": [
    {
     "name": "stdout",
     "output_type": "stream",
     "text": [
      "calculating qubit biases for qubit 1 of 2\n",
      "point #9 single qubit residuals: \n",
      " [-9.26002257e-02  6.61752204e-05] \n",
      "\n",
      "calculating qubit biases for qubit 2 of 2\n",
      "schedule point 1 / 10\u001b[1K\r"
     ]
    },
    {
     "name": "stderr",
     "output_type": "stream",
     "text": [
      "/Users/enriquenb/Documents/GitHub/CAS/cas/elements.py:617: UserWarning: For the point #9, solver found solutions that are not optimal. The relative error is 2.95 % for single qubit residuals\n",
      "  warnings.warn(\n"
     ]
    },
    {
     "name": "stdout",
     "output_type": "stream",
     "text": [
      "point #9 single qubit residuals: \n",
      " [-9.34679451e-02  7.22503019e-05] \n",
      "\n",
      "\n",
      " calculating coupler bias for coupler 1 of 1\n",
      "schedule point 1 / 10\u001b[1K\r"
     ]
    },
    {
     "name": "stderr",
     "output_type": "stream",
     "text": [
      "/Users/enriquenb/Documents/GitHub/CAS/cas/elements.py:617: UserWarning: For the point #9, solver found solutions that are not optimal. The relative error is 1.86 % for single qubit residuals\n",
      "  warnings.warn(\n"
     ]
    },
    {
     "name": "stdout",
     "output_type": "stream",
     "text": [
      "schedule point 10 / 10\u001b[1K\r"
     ]
    }
   ],
   "source": [
    "custom_flux_dict_pwsw = circuit.get_custom_fluxes_pwsw(schedule_dict, verbose=True, optimizer_method=\"leastsq\")"
   ]
  }
 ],
 "metadata": {
  "kernelspec": {
   "display_name": "Qilimanjaro-ETH-Hackathon",
   "language": "python",
   "name": "python3"
  },
  "language_info": {
   "codemirror_mode": {
    "name": "ipython",
    "version": 3
   },
   "file_extension": ".py",
   "mimetype": "text/x-python",
   "name": "python",
   "nbconvert_exporter": "python",
   "pygments_lexer": "ipython3",
   "version": "3.8.16"
  },
  "orig_nbformat": 4
 },
 "nbformat": 4,
 "nbformat_minor": 2
}
