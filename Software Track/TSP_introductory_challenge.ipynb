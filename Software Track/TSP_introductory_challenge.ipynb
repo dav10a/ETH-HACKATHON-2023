{
 "cells": [
  {
   "attachments": {},
   "cell_type": "markdown",
   "metadata": {},
   "source": [
    "# Traveling Salesman Problem\n",
    "The Traveling Salesman Problem (TSP) concerns finding the shortest path that a traveling salesman can take to go through a list of cities in the shortest time possible. This problem is represented in a graph $G =(V,E)$ with $N=|V|$. Each vertex in the graph $G$ represents a different camp, while the weights on each of the edges $(u,v)$ represent the distance between the two camps $u$ and $v$. \n",
    "\n",
    "This is an NP-Hard problem, and there is no known classical algorithm that is know to solve this problem in linear time. \n"
   ]
  },
  {
   "attachments": {},
   "cell_type": "markdown",
   "metadata": {},
   "source": [
    "We first have to define the different camps and distances using a graph. Here you can find the definition of these camps:"
   ]
  },
  {
   "cell_type": "code",
   "execution_count": null,
   "metadata": {},
   "outputs": [],
   "source": [
    "# installing necessary modules\n",
    "! pip install networkx\n",
    "! pip install qibo --user"
   ]
  },
  {
   "cell_type": "code",
   "execution_count": 45,
   "metadata": {},
   "outputs": [
    {
     "data": {
      "image/png": "[encoded data removed]",
      "text/plain": [
       "<Figure size 777.6x518.4 with 1 Axes>"
      ]
     },
     "metadata": {},
     "output_type": "display_data"
    }
   ],
   "source": [
    "import matplotlib.pylab as plt\n",
    "import networkx as nx\n",
    "import numpy as np \n",
    "\n",
    "# define a directed graph \n",
    "G = nx.DiGraph()\n",
    "\n",
    "# define the edges of the graph with their corresponding weights\n",
    "G.add_edge(0, 1, weight=0.6)\n",
    "G.add_edge(1, 0, weight=0.6)\n",
    "\n",
    "G.add_edge(0, 2, weight=0.5)\n",
    "G.add_edge(2, 0, weight=0.5)\n",
    "\n",
    "G.add_edge(1, 2, weight=0.1)\n",
    "G.add_edge(2, 1, weight=0.1)\n",
    "\n",
    "\n",
    "# save the labels of the various edges to be able to plot them.\n",
    "edge_labels= {}\n",
    "for (u,v) in G.edges():\n",
    "    edge_labels[(u,v)] = G[u][v][\"weight\"]\n",
    "\n",
    "pos = {0: np.array([-0.3, -0.3 ]), 1: np.array([-0.06 ,  0.2]), 2: np.array([0.13, 0. ])}\n",
    "\n",
    "# creating node labels\n",
    "labels = {}\n",
    "labels[0] = 'Barranco Camp'\n",
    "labels[1] = 'Crater Camp'\n",
    "labels[2] = 'Arrow Glacier Camp'\n",
    "\n",
    "# applying a shift to the node labels for readability purposes \n",
    "shift = np.array([0.03, 0])\n",
    "shifted_pos ={node: node_pos + shift for (node, node_pos) in pos.items()}\n",
    "\n",
    "# draw node labels\n",
    "nx.draw_networkx_labels(G, shifted_pos, labels=labels, horizontalalignment=\"left\")\n",
    "\n",
    "\n",
    "#plot the graph and the edge labels\n",
    "nx.draw_networkx_edge_labels(G, pos, edge_labels=edge_labels, alpha=0.8)\n",
    "nx.draw(G, pos, with_labels=True, alpha=0.8, node_size=500)\n",
    "\n",
    "# adjust frame to avoid cutting text, may need to adjust the value\n",
    "axis = plt.gca()\n",
    "lim = axis.get_xlim()\n",
    "axis.set_xlim([lim[0], lim[1] * 1.7])\n",
    "\n",
    "# increase the size of the figure\n",
    "figure_size = plt.gcf().get_size_inches()\n",
    "factor = 1.8\n",
    "plt.gcf().set_size_inches(factor * figure_size)\n",
    "\n",
    "plt.show()\n"
   ]
  },
  {
   "attachments": {},
   "cell_type": "markdown",
   "metadata": {},
   "source": [
    "# Introductory Challenge  "
   ]
  },
  {
   "attachments": {},
   "cell_type": "markdown",
   "metadata": {},
   "source": [
    "In this first challenge we ask you to find a Hamiltonian capable of solving the TSP problem. Below you can find a set of functions that you will need to fill in order to find the solution using Quantum Alternating Operator Ansatz (QAOA) and Adiabatic Quantum Optimization (AQO)."
   ]
  },
  {
   "cell_type": "code",
   "execution_count": null,
   "metadata": {},
   "outputs": [],
   "source": [
    "from qibo.symbols import Z, X, Y\n",
    "from qibo import hamiltonians\n",
    "\n",
    "def build_TSP_hamiltonian(G : nx.Graph):\n",
    "    '''\n",
    "    build the cost hamiltonian.\n",
    "\n",
    "    args: \n",
    "        G: a networkx graph\n",
    "            the graph representing the camp distribution. \n",
    "            \n",
    "    \n",
    "    returns:\n",
    "        The symbolic cost hamiltonian of the TSP with respect to the nodes specified in the graph\n",
    "    '''\n",
    "\n",
    "    pass \n",
    "\n",
    "def build_mixer_hamiltonian(G: nx.Graph):\n",
    "    '''\n",
    "    build the mixer hamiltonian.\n",
    "\n",
    "    args:\n",
    "        G: a networkx graph\n",
    "            the graph representing the camp distribution. \n",
    "\n",
    "    returns:\n",
    "        The symbolic mixer hamiltonian of the TSP with respect to the nodes specified in the graph\n",
    "\n",
    "    '''\n",
    "\n",
    "    pass\n",
    "\n",
    "def build_initial_hamiltonian(G: nx.Graph):\n",
    "    '''\n",
    "    build the initial hamiltonian for the adiabatic optimization.\n",
    "\n",
    "    args:\n",
    "        G: a networkx graph\n",
    "            the graph representing the camp distribution. \n",
    "\n",
    "    returns:\n",
    "        A symbolic hamiltonian \n",
    "\n",
    "    '''\n",
    "\n",
    "    pass\n",
    "\n",
    "def prepare_initial_state(G: nx.Graph):\n",
    "    '''\n",
    "    prepare the initial state of the system.\n",
    "\n",
    "    args:\n",
    "        G: a networkx graph\n",
    "            the graph representing the camp distribution. \n",
    "\n",
    "    returns:\n",
    "        The initial state of the system.\n",
    "\n",
    "    '''\n",
    "\n",
    "    pass\n",
    "\n",
    "def display_solution(state: str):\n",
    "    '''\n",
    "    display the solution of the TSP.\n",
    "\n",
    "    args:\n",
    "        state: string \n",
    "            A string encoding the TSP solution\n",
    "    '''\n",
    "\n",
    "    pass "
   ]
  },
  {
   "attachments": {},
   "cell_type": "markdown",
   "metadata": {},
   "source": [
    "## Quantum Alternating Operator Ansatz (QAOA)"
   ]
  },
  {
   "cell_type": "code",
   "execution_count": null,
   "metadata": {},
   "outputs": [],
   "source": [
    "import numpy as np\n",
    "from qibo import models, hamiltonians\n",
    "\n",
    "\n",
    "nqubits = G.number_of_nodes() ** 2\n",
    "print(\"number of qubits needed to solve the problem: \", nqubits)\n",
    "\n",
    "# create the cost Hamiltonian for the given graph\n",
    "hamiltonian = build_TSP_hamiltonian(G)\n",
    "\n",
    "# create the mixer Hamiltonian for the given graph\n",
    "mixer_hamiltonian = build_mixer_hamiltonian(G)\n",
    "\n",
    "# create QAOA model given the Hamiltonians\n",
    "qaoa = models.QAOA(hamiltonian=hamiltonian, mixer=mixer_hamiltonian)\n",
    "\n",
    "# optimize using random initial variational parameters with eight layers \n",
    "# Note: you can change the number of layers but it has to be an even number\n",
    "num_layers = 8\n",
    "initial_parameters = np.random.random(num_layers) \n",
    "\n",
    "# prepare the initial state of the QAOA optimization \n",
    "initial_state = prepare_initial_state(G) \n",
    "\n",
    "# run the QAOA optimization with the initial parameters and the hamiltonians defined\n",
    "best_energy, final_parameters, extra = qaoa.minimize(\n",
    "    initial_parameters, \n",
    "    method=\"BFGS\", \n",
    "    initial_state=initial_state)\n",
    "\n",
    "print(\"best energy: \", best_energy)"
   ]
  },
  {
   "cell_type": "code",
   "execution_count": null,
   "metadata": {},
   "outputs": [],
   "source": [
    "from qibo.states import CircuitResult\n",
    "from qibo import gates\n",
    "from qibo.models import Circuit\n",
    "\n",
    "# build the circuit using the optimal parameters optimized by QAOA\n",
    "qaoa.set_parameters(final_parameters)\n",
    "quantum_state = qaoa.execute(initial_state)\n",
    "\n",
    "# measure the output of the circuit and obtain results\n",
    "nshots= 4000\n",
    "circuit = Circuit(nqubits)\n",
    "circuit.add(gates.M(*range(nqubits)))\n",
    "result = CircuitResult(qaoa.backend, circuit, quantum_state, nshots=nshots)\n",
    "freq_counter = result.frequencies()\n",
    "\n",
    "# order the results according to the frequencies\n",
    "ordered_freq_counter = sorted(freq_counter.items(), key=lambda item: item[1], reverse=True)\n",
    "qaoa_solution = ordered_freq_counter[0][0]\n",
    "\n",
    "display_solution(qaoa_solution)"
   ]
  },
  {
   "attachments": {},
   "cell_type": "markdown",
   "metadata": {},
   "source": [
    "## Adiabatic Quantum Optimization"
   ]
  },
  {
   "cell_type": "code",
   "execution_count": null,
   "metadata": {},
   "outputs": [],
   "source": [
    "import numpy as np\n",
    "from qibo.models.evolution import AdiabaticEvolution\n",
    "from qibo.hamiltonians.hamiltonians import Hamiltonian\n",
    "\n",
    "# build initial (H0) and target (H1) hamiltonians\n",
    "H1 = build_TSP_hamiltonian(G)\n",
    "H0 = build_initial_hamiltonian(G)\n",
    "\n",
    "dt = 0.1\n",
    "nqubits = (G.number_of_nodes()) ** 2\n",
    "\n",
    "# calculate the dense hamiltonian from the symbolic hamiltonian\n",
    "H1_dense = Hamiltonian(nqubits, H1.matrix)\n",
    "H0_dense = Hamiltonian(nqubits, H0.matrix)\n",
    "\n",
    "# define the scheduler\n",
    "def s(t): return t\n",
    "\n",
    "\n",
    "\n",
    "# construct the adiabatic model\n",
    "adiabatic_model = AdiabaticEvolution(H0_dense, H1_dense, s, dt)"
   ]
  },
  {
   "cell_type": "code",
   "execution_count": null,
   "metadata": {},
   "outputs": [],
   "source": [
    "# execute the adiabatic optimization\n",
    "adiabatic_quantum_state = adiabatic_model.execute(final_time=T) \n",
    "\n",
    "# obtain the state with the highest probability\n",
    "solution_dec = (np.abs(adiabatic_quantum_state) ** 2).argmax()\n",
    "\n",
    "adiabatic_solution = \"{0:0{bits}b}\".format(solution_dec, bits=nqubits)\n",
    "\n",
    "display_solution(adiabatic_solution)"
   ]
  },
  {
   "attachments": {},
   "cell_type": "markdown",
   "metadata": {},
   "source": [
    "# Real life challenges "
   ]
  },
  {
   "attachments": {},
   "cell_type": "markdown",
   "metadata": {},
   "source": [
    "Currently we are still in the NISQ era, and a lot of devices are limited in terms of coherence time and number of qubits. In this challenge we provide you with a new graph, and we ask you to solve it for a quantum computer that only has 6 qubits. This means that the final solution should not use more than 6 qubits.  "
   ]
  },
  {
   "attachments": {},
   "cell_type": "markdown",
   "metadata": {},
   "source": [
    "The new graph includes our starting and ending points, as çour journey will start from Karanga Camp, and it will end in Kibo. "
   ]
  },
  {
   "cell_type": "code",
   "execution_count": 44,
   "metadata": {},
   "outputs": [
    {
     "data": {
      "image/png": "[encoded data removed]",
      "text/plain": [
       "<Figure size 777.6x518.4 with 1 Axes>"
      ]
     },
     "metadata": {},
     "output_type": "display_data"
    }
   ],
   "source": [
    "import matplotlib.pylab as plt\n",
    "import networkx as nx\n",
    "import numpy as np \n",
    "\n",
    "# define a directed graph \n",
    "G = nx.DiGraph()\n",
    "\n",
    "# define the edges of the graph with their corresponding weights\n",
    "G.add_edge(0, 1, weight=0.3)\n",
    "G.add_edge(1, 0, weight=0.3)\n",
    "\n",
    "G.add_edge(0, 3, weight=0.4)\n",
    "G.add_edge(3, 0, weight=0.4)\n",
    "\n",
    "G.add_edge(1, 3, weight=0.6)\n",
    "G.add_edge(3, 1, weight=0.6)\n",
    "\n",
    "G.add_edge(1, 2, weight=0.5)\n",
    "G.add_edge(2, 1, weight=0.5)\n",
    "\n",
    "G.add_edge(2, 3, weight=0.1)\n",
    "G.add_edge(3, 2, weight=0.1)\n",
    "\n",
    "G.add_edge(3, 4, weight=0.4)\n",
    "G.add_edge(4, 3, weight=0.4)\n",
    "\n",
    "G.add_edge(2, 4, weight=0.2)\n",
    "G.add_edge(4, 2, weight=0.2)\n",
    "\n",
    "\n",
    "# save the labels of the various edges to be able to plot them.\n",
    "edge_labels= {}\n",
    "for (u,v) in G.edges():\n",
    "    edge_labels[(u,v)] = G[u][v][\"weight\"]\n",
    "\n",
    "pos = {0: np.array([-0.04, -0.6 ]), 1: np.array([-0.2, -0.3 ]), 2: np.array([0.01 ,  0.4]), 3: np.array([0.1, 0. ]), 4: np.array([0.08, 1. ])}\n",
    "\n",
    "# creating node labels\n",
    "labels = {}\n",
    "labels[0] = 'Karanga Camp'\n",
    "labels[1] = 'Barranco Camp'\n",
    "labels[2] = 'Arrow Glacier Camp'\n",
    "labels[3] = 'Crater Camp'\n",
    "labels[4] = 'Kibo'\n",
    "\n",
    "# applying a shift to the node labels for readability purposes \n",
    "shift = np.array([0.03, 0])\n",
    "shifted_pos ={node: node_pos + shift for (node, node_pos) in pos.items()}\n",
    "\n",
    "# draw node labels\n",
    "nx.draw_networkx_labels(G, shifted_pos, labels=labels, horizontalalignment=\"left\")\n",
    "\n",
    "\n",
    "#plot the graph and the edge labels\n",
    "nx.draw_networkx_edge_labels(G, pos, edge_labels=edge_labels, alpha=0.8)\n",
    "nx.draw(G, pos, with_labels=True, alpha=0.8, node_size=500)\n",
    "\n",
    "# adjust frame to avoid cutting text, may need to adjust the value\n",
    "axis = plt.gca()\n",
    "lim = axis.get_xlim()\n",
    "axis.set_xlim([lim[0], lim[1] * 1.7])\n",
    "\n",
    "# increase the size of the figure\n",
    "figure_size = plt.gcf().get_size_inches()\n",
    "factor = 1.8\n",
    "plt.gcf().set_size_inches(factor * figure_size)\n",
    "\n",
    "plt.show()\n"
   ]
  }
 ],
 "metadata": {
  "kernelspec": {
   "display_name": "Python 3",
   "language": "python",
   "name": "python3"
  },
  "language_info": {
   "codemirror_mode": {
    "name": "ipython",
    "version": 3
   },
   "file_extension": ".py",
   "mimetype": "text/x-python",
   "name": "python",
   "nbconvert_exporter": "python",
   "pygments_lexer": "ipython3",
   "version": "3.9.10"
  },
  "orig_nbformat": 4
 },
 "nbformat": 4,
 "nbformat_minor": 2
}
